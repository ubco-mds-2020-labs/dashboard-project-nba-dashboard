{
 "metadata": {
  "language_info": {
   "codemirror_mode": {
    "name": "ipython",
    "version": 3
   },
   "file_extension": ".py",
   "mimetype": "text/x-python",
   "name": "python",
   "nbconvert_exporter": "python",
   "pygments_lexer": "ipython3",
   "version": "3.8.3-final"
  },
  "orig_nbformat": 2,
  "kernelspec": {
   "name": "python3",
   "display_name": "Python 3.8.3 64-bit (conda)",
   "metadata": {
    "interpreter": {
     "hash": "6daf48744f4ce44b71572c0f8f2a6fb897741990605a7e8599d08bee668bbd40"
    }
   }
  }
 },
 "nbformat": 4,
 "nbformat_minor": 2,
 "cells": [
  {
   "cell_type": "code",
   "execution_count": 364,
   "metadata": {},
   "outputs": [
    {
     "output_type": "execute_result",
     "data": {
      "text/plain": [
       "DataTransformerRegistry.enable('data_server')"
      ]
     },
     "metadata": {},
     "execution_count": 364
    }
   ],
   "source": [
    "import pandas as pd\n",
    "import altair as alt\n",
    "alt.data_transformers.disable_max_rows()\n",
    "\n",
    "# Save a vega-lite spec and a PNG blob for each plot in the notebook\n",
    "alt.renderers.enable('mimetype')\n",
    "# Handle large data sets without embedding them in the notebook\n",
    "alt.data_transformers.enable('data_server')"
   ]
  },
  {
   "cell_type": "code",
   "execution_count": 365,
   "metadata": {},
   "outputs": [],
   "source": [
    "full_data = pd.read_csv(\"players_stats_by_season_full_details.csv\")"
   ]
  },
  {
   "cell_type": "code",
   "execution_count": 366,
   "metadata": {},
   "outputs": [],
   "source": [
    "# filter data to only include NBA\n",
    "NBA_data = full_data[full_data[\"League\"] == \"NBA\"]\n",
    "# Regular season data\n",
    "NBA_reg = NBA_data[NBA_data['Stage'] == \"Regular_Season\"]\n",
    "# Playoff data\n",
    "NBA_playoff = NBA_data[NBA_data['Stage'] == 'Playoffs']"
   ]
  },
  {
   "cell_type": "code",
   "execution_count": 367,
   "metadata": {},
   "outputs": [
    {
     "output_type": "execute_result",
     "data": {
      "text/plain": [
       "Index(['League', 'Season', 'Stage', 'Player', 'Team', 'GP', 'MIN', 'FGM',\n",
       "       'FGA', '3PM', '3PA', 'FTM', 'FTA', 'TOV', 'PF', 'ORB', 'DRB', 'REB',\n",
       "       'AST', 'STL', 'BLK', 'PTS', 'birth_year', 'birth_month', 'birth_date',\n",
       "       'height', 'height_cm', 'weight', 'weight_kg', 'nationality',\n",
       "       'high_school', 'draft_round', 'draft_pick', 'draft_team'],\n",
       "      dtype='object')"
      ]
     },
     "metadata": {},
     "execution_count": 367
    }
   ],
   "source": [
    "NBA_data.columns"
   ]
  },
  {
   "source": [
    "## Overall NBA trends (not separated by playoffs vs reg season)"
   ],
   "cell_type": "markdown",
   "metadata": {}
  },
  {
   "cell_type": "code",
   "execution_count": 368,
   "metadata": {},
   "outputs": [],
   "source": [
    "# group by the seasons and sum up numerical columns. This shows stats by season (this includes regular season and playoff games)\n",
    "NBA_seasons_full = NBA_data.groupby('Season').sum().reset_index()\n"
   ]
  },
  {
   "source": [
    "### Data Wrangling for line graph showing trends of stats in the NBA over the seasons"
   ],
   "cell_type": "markdown",
   "metadata": {}
  },
  {
   "cell_type": "code",
   "execution_count": 369,
   "metadata": {},
   "outputs": [],
   "source": [
    "# list for the drop down menu\n",
    "longform_stat_list = ['Minutes played per game', 'Field Goals Made per Game', 'Field Goals Attempted per Game',\n",
    "'3-Pointers Made per Game', '3-Pointers Attempted per Game', 'Free-throws Made per Game',\n",
    "'Free-throws Attempted per Game', 'Turnovers per Game', 'Personal Fouls per Game', 'Offensive Rebounds per Game',\n",
    "'Defensive Rebounds per Game', 'Total Rebounds per Game', 'Assists per Game', 'Steals per Game', \n",
    "'Blocks per Game', 'Points per Game', 'Average Player Weight', 'Average Player Height', 'Average Player Body Mass Index', 'Percentage of Field Goals That Are 3-pointers']\n",
    "\n",
    "# dictionary linking dropdown list key to stat value\n",
    "stat_dict = {'Minutes played per game':'MIN/Game', 'Field Goals Made per Game':'FGM/Game', \n",
    "'Field Goals Attempted per Game':'FGA/Game', '3-Pointers Made per Game':'3PM/Game',\n",
    "'3-Pointers Attempted per Game':'3PA/Game', 'Free-throws Made per Game':'FTM/Game',\n",
    "'Free-throws Attempted per Game':'FTA/Game', 'Turnovers per Game':'TOV/Game', 'Personal Fouls per Game':'PF/Game', 'Offensive Rebounds per Game':'ORB/Game', 'Defensive Rebounds per Game':'DRB/Game', 'Total Rebounds per Game':'REB/Game', 'Assists per Game':'Ast/Game', 'Steals per Game':'STL/Game', \n",
    "'Blocks per Game':'BLK/Game', 'Points per Game':'Pts/Game', 'Average Player Weight (lbs)':'avg_weight', 'Average Player Height (cm)':'avg_height_cm', 'Average Player Body Mass Index':'avg_BMI', 'Ratio of Field Goals That Are 3-pointers':'3PM_ratio'}"
   ]
  },
  {
   "cell_type": "code",
   "execution_count": 370,
   "metadata": {},
   "outputs": [],
   "source": [
    "# Create column for ratio of shots made that are 3-pointers\n",
    "NBA_seasons_full['3PM_ratio'] = (NBA_seasons_full['3PM']/NBA_seasons_full['FGM'])\n",
    "\n",
    "# Create a column for average player height (need to create a season average dataframe first)\n",
    "NBA_seasons_full_avg = NBA_data.groupby('Season').mean().reset_index()\n",
    "NBA_seasons_full['avg_height_cm'] = NBA_seasons_full_avg['height_cm']\n",
    "\n",
    "# Create a column for average player weight (lbs)\n",
    "NBA_seasons_full['avg_weight'] = NBA_seasons_full_avg['weight']\n",
    "\n",
    "# Create a column for average player BMI\n",
    "NBA_seasons_full['avg_BMI'] = NBA_seasons_full_avg['weight_kg']/((NBA_seasons_full_avg['height_cm']/100)**2)\n",
    "\n",
    "# All of the following numerical stats per game (eg. points, assists, etc.) are found by getting the stat/minute/player, then multiplying that by 5 for 5 players on the court at a time for each team and then multiplying by 48 for 48 minutes in a game. \n",
    "\n",
    "# Create a points per game column\n",
    "NBA_seasons_full['Pts/Game'] = (NBA_seasons_full['PTS']/NBA_seasons_full['MIN'])*(5*48)\n",
    "\n",
    "# Create an assists per game column\n",
    "NBA_seasons_full['Ast/Game'] = (NBA_seasons_full['AST']/NBA_seasons_full['MIN'])*(5*48)\n",
    "\n",
    "# Create a field goals attempted per game column\n",
    "NBA_seasons_full['FGA/Game'] = (NBA_seasons_full['FGA']/NBA_seasons_full['MIN'])*(5*48)\n",
    "\n",
    "# Create a field goals made per game column\n",
    "NBA_seasons_full['FGM/Game'] = (NBA_seasons_full['FGM']/NBA_seasons_full['MIN'])*(5*48)\n",
    "\n",
    "# Create a total rebounds per game column\n",
    "NBA_seasons_full['ORB/Game'] = (NBA_seasons_full['ORB']/NBA_seasons_full['MIN'])*(5*48)\n",
    "\n",
    "# Create a defensive rebounds per game column\n",
    "NBA_seasons_full['DRB/Game'] = (NBA_seasons_full['DRB']/NBA_seasons_full['MIN'])*(5*48)\n",
    "\n",
    "# Create a total rebounds per game column\n",
    "NBA_seasons_full['REB/Game'] = (NBA_seasons_full['REB']/NBA_seasons_full['MIN'])*(5*48)\n",
    "\n",
    "# Create a minutes per game column\n",
    "NBA_seasons_full['MIN/Game'] = NBA_seasons_full['MIN']/NBA_seasons_full['GP']\n",
    "\n",
    "# Create a 3 pointers made per game column\n",
    "NBA_seasons_full['3PM/Game'] = (NBA_seasons_full['3PM']/NBA_seasons_full['MIN'])*(5*48)\n",
    "\n",
    "# Create a 3-pointers attempted per game column\n",
    "NBA_seasons_full['3PA/Game'] = (NBA_seasons_full['3PA']/NBA_seasons_full['MIN'])*(5*48)\n",
    "\n",
    "# Create a free-throws attempted per game column\n",
    "NBA_seasons_full['FTA/Game'] = (NBA_seasons_full['FTA']/NBA_seasons_full['MIN'])*(5*48)\n",
    "\n",
    "# Create a free-throws attempted per game column\n",
    "NBA_seasons_full['FTM/Game'] = (NBA_seasons_full['FTM']/NBA_seasons_full['MIN'])*(5*48)\n",
    "\n",
    "# Create a turnovers per game column\n",
    "NBA_seasons_full['TOV/Game'] = (NBA_seasons_full['TOV']/NBA_seasons_full['MIN'])*(5*48)\n",
    "\n",
    "# Create a personal fouls per game column\n",
    "NBA_seasons_full['PF/Game'] = (NBA_seasons_full['PF']/NBA_seasons_full['MIN'])*(5*48)\n",
    "\n",
    "# Create a steals per game column\n",
    "NBA_seasons_full['STL/Game'] = (NBA_seasons_full['STL']/NBA_seasons_full['MIN'])*(5*48)\n",
    "\n",
    "# Create a blocks per game column\n",
    "NBA_seasons_full['BLK/Game'] = (NBA_seasons_full['BLK']/NBA_seasons_full['MIN'])*(5*48)"
   ]
  },
  {
   "source": [
    "### Generic chart function for getting simple stat trends over the seasons"
   ],
   "cell_type": "markdown",
   "metadata": {}
  },
  {
   "cell_type": "code",
   "execution_count": 371,
   "metadata": {},
   "outputs": [],
   "source": [
    "def simple_stat(stat):\n",
    "    # Use dictionary key to get the proper column\n",
    "    stat_label = stat_dict[stat]\n",
    "    line_chart = alt.Chart(NBA_seasons_full, title=alt.TitleParams(text=stat)).mark_line().encode(alt.Y(stat_label, scale= alt.Scale(zero=False),\n",
    "    axis=alt.Axis(grid=False), title=None), alt.X('Season'))\n",
    "    return line_chart"
   ]
  },
  {
   "cell_type": "code",
   "execution_count": 372,
   "metadata": {},
   "outputs": [
    {
     "output_type": "execute_result",
     "data": {
      "application/vnd.vegalite.v4+json": {
       "config": {
        "view": {
         "continuousWidth": 400,
         "continuousHeight": 300
        }
       },
       "data": {
        "url": "http://localhost:24786/ae785a9f0b261ae36acf7f9698f62ed8.json"
       },
       "mark": "line",
       "encoding": {
        "x": {
         "type": "nominal",
         "field": "Season"
        },
        "y": {
         "type": "quantitative",
         "axis": {
          "grid": false
         },
         "field": "Ast/Game",
         "scale": {
          "zero": false
         },
         "title": null
        }
       },
       "title": {
        "text": "Assists per Game"
       },
       "$schema": "https://vega.github.io/schema/vega-lite/v4.8.1.json"
      },
      "text/plain": [
       "<VegaLite 4 object>\n",
       "\n",
       "If you see this message, it means the renderer has not been properly enabled\n",
       "for the frontend that you are using. For more information, see\n",
       "https://altair-viz.github.io/user_guide/troubleshooting.html\n"
      ]
     },
     "metadata": {},
     "execution_count": 372
    }
   ],
   "source": [
    "simple_stat('Assists per Game')\n"
   ]
  },
  {
   "cell_type": "code",
   "execution_count": 374,
   "metadata": {},
   "outputs": [
    {
     "output_type": "execute_result",
     "data": {
      "application/vnd.vegalite.v4+json": {
       "config": {
        "view": {
         "continuousWidth": 400,
         "continuousHeight": 300
        }
       },
       "layer": [
        {
         "mark": "line",
         "encoding": {
          "x": {
           "type": "nominal",
           "field": "Season"
          },
          "y": {
           "type": "quantitative",
           "field": "DRB/Game",
           "scale": {
            "zero": false
           }
          }
         }
        },
        {
         "mark": "line",
         "encoding": {
          "x": {
           "type": "nominal",
           "field": "Season"
          },
          "y": {
           "type": "quantitative",
           "field": "REB/Game",
           "scale": {
            "zero": false
           }
          }
         }
        },
        {
         "mark": "line",
         "encoding": {
          "x": {
           "type": "nominal",
           "field": "Season"
          },
          "y": {
           "type": "quantitative",
           "field": "ORB/Game",
           "scale": {
            "zero": false
           }
          }
         }
        }
       ],
       "data": {
        "url": "http://localhost:24786/ae785a9f0b261ae36acf7f9698f62ed8.json"
       },
       "$schema": "https://vega.github.io/schema/vega-lite/v4.8.1.json"
      },
      "text/plain": [
       "<VegaLite 4 object>\n",
       "\n",
       "If you see this message, it means the renderer has not been properly enabled\n",
       "for the frontend that you are using. For more information, see\n",
       "https://altair-viz.github.io/user_guide/troubleshooting.html\n"
      ]
     },
     "metadata": {},
     "execution_count": 374
    }
   ],
   "source": [
    "# A sample chart showing offensive, defensive and total rebounds in one chart. \n",
    "\n",
    "rpg_chart = alt.Chart(NBA_seasons_full).mark_line().encode(alt.Y('REB/Game', scale= alt.Scale(zero=False)), alt.X('Season'))\n",
    "\n",
    "\n",
    "drpg_chart = alt.Chart(NBA_seasons_full).mark_line().encode(alt.Y('DRB/Game', scale= alt.Scale(zero=False)), alt.X('Season'))\n",
    "\n",
    "orpg_chart = alt.Chart(NBA_seasons_full).mark_line().encode(alt.Y('ORB/Game', scale= alt.Scale(zero=False)), alt.X('Season'))\n",
    "\n",
    "drpg_chart + rpg_chart + orpg_chart"
   ]
  },
  {
   "source": [
    "### Grouping by player age and making the same line plot but it will show how the overall NBA trends change as players age. "
   ],
   "cell_type": "markdown",
   "metadata": {}
  },
  {
   "cell_type": "code",
   "execution_count": 375,
   "metadata": {},
   "outputs": [],
   "source": [
    "NBA_data_age = NBA_data.copy()\n",
    "# Convert birth year to integer\n",
    "NBA_data_age['birth_year'] = NBA_data_age['birth_year'].map(lambda x: int(x))\n",
    "NBA_data_age.reset_index(drop=True, inplace=True)\n",
    "# Convert Season to the year the season ended (instead of the two years the season spans)\n",
    "# and convert it to an integer. \n",
    "NBA_data_age['Season'] = NBA_data_age['Season'].map(lambda x: int(x[-4:len(x)]))"
   ]
  },
  {
   "cell_type": "code",
   "execution_count": 376,
   "metadata": {},
   "outputs": [],
   "source": [
    "# Create a column for age by subtracting birth year from the season year (use year of playoffs)\n",
    "NBA_data_age['Age'] = NBA_data_age['Season'] - NBA_data_age['birth_year']\n",
    "\n",
    "# Drop ages > 39 years old because there are less than 30 players in these age groups so the average estimates are likely to be innacurate. \n",
    "NBA_data_age = NBA_data_age[NBA_data_age['Age'] < 40]\n",
    "\n",
    "# Group the NBA data by age and sum up the numerical categories\n",
    "NBA_age_avg = NBA_data_age.groupby('Age').mean().reset_index()\n",
    "NBA_age_sum = NBA_data_age.groupby('Age').sum().reset_index()"
   ]
  },
  {
   "cell_type": "code",
   "execution_count": 377,
   "metadata": {},
   "outputs": [],
   "source": [
    "# Create column for ratio of shots made that are 3-pointers\n",
    "NBA_age_sum['3PM_ratio'] = (NBA_age_sum['3PM']/NBA_age_sum['FGM'])\n",
    "\n",
    "# Create a column for average player height (need to create a season average dataframe first)\n",
    "NBA_age_sum['avg_height_cm'] = NBA_age_avg['height_cm']\n",
    "\n",
    "# Create a column for average player weight (lbs)\n",
    "NBA_age_sum['avg_weight'] = NBA_age_avg['weight']\n",
    "\n",
    "# Create a column for average player BMI\n",
    "NBA_age_sum['avg_BMI'] = NBA_age_avg['weight_kg']/((NBA_age_avg['height_cm']/100)**2)\n",
    "\n",
    "# All of the following numerical stats per game by age (eg. points, assists, etc.) are found by getting the stat/game played. \n",
    "\n",
    "# Create a points per game column\n",
    "NBA_age_sum['Pts/Game'] = NBA_age_sum['PTS']/NBA_age_sum['GP']\n",
    "\n",
    "# Create an assists per game column\n",
    "NBA_age_sum['Ast/Game'] = NBA_age_sum['AST']/NBA_age_sum['GP']\n",
    "\n",
    "# Create a field goals attempted per game column\n",
    "NBA_age_sum['FGA/Game'] = NBA_age_sum['FGA']/NBA_age_sum['GP']\n",
    "\n",
    "# Create a field goals made per game column\n",
    "NBA_age_sum['FGM/Game'] = NBA_age_sum['FGM']/NBA_age_sum['GP']\n",
    "\n",
    "# Create a total rebounds per game column\n",
    "NBA_age_sum['ORB/Game'] = NBA_age_sum['ORB']/NBA_age_sum['GP']\n",
    "\n",
    "# Create a defensive rebounds per game column\n",
    "NBA_age_sum['DRB/Game'] = NBA_age_sum['DRB']/NBA_age_sum['GP']\n",
    "\n",
    "# Create a total rebounds per game column\n",
    "NBA_age_sum['REB/Game'] = NBA_age_sum['REB']/NBA_age_sum['GP']\n",
    "\n",
    "# Create a minutes per game column\n",
    "NBA_age_sum['MIN/Game'] = NBA_age_sum['MIN']/NBA_age_sum['GP']\n",
    "\n",
    "# Create a 3 pointers made per game column\n",
    "NBA_age_sum['3PM/Game'] = NBA_age_sum['3PM']/NBA_age_sum['GP']\n",
    "\n",
    "# Create a 3-pointers attempted per game column\n",
    "NBA_age_sum['3PA/Game'] = NBA_age_sum['3PA']/NBA_age_sum['GP']\n",
    "\n",
    "# Create a free-throws attempted per game column\n",
    "NBA_age_sum['FTA/Game'] = NBA_age_sum['FTA']/NBA_age_sum['GP']\n",
    "\n",
    "# Create a free-throws attempted per game column\n",
    "NBA_age_sum['FTM/Game'] = NBA_age_sum['FTM']/NBA_age_sum['GP']\n",
    "\n",
    "# Create a turnovers per game column\n",
    "NBA_age_sum['TOV/Game'] = NBA_age_sum['TOV']/NBA_age_sum['GP']\n",
    "\n",
    "# Create a personal fouls per game column\n",
    "NBA_age_sum['PF/Game'] = NBA_age_sum['PF']/NBA_age_sum['GP']\n",
    "\n",
    "# Create a steals per game column\n",
    "NBA_age_sum['STL/Game'] = NBA_age_sum['STL']/NBA_age_sum['GP']\n",
    "\n",
    "# Create a blocks per game column\n",
    "NBA_age_sum['BLK/Game'] = NBA_age_sum['BLK']/NBA_age_sum['GP']"
   ]
  },
  {
   "cell_type": "code",
   "execution_count": 378,
   "metadata": {},
   "outputs": [],
   "source": [
    "def simple_stat_age(stat):\n",
    "    # Use dictionary key to get the proper column\n",
    "    stat_label = stat_dict[stat]\n",
    "    line_chart = alt.Chart(NBA_age_sum, title=alt.TitleParams(text=stat)).mark_line().encode(alt.Y(stat_label, scale= alt.Scale(zero=False),\n",
    "    axis=alt.Axis(grid=False), title=None), alt.X('Age', axis=alt.Axis(grid=False)))\n",
    "    return line_chart"
   ]
  },
  {
   "cell_type": "code",
   "execution_count": 379,
   "metadata": {},
   "outputs": [
    {
     "output_type": "execute_result",
     "data": {
      "application/vnd.vegalite.v4+json": {
       "config": {
        "view": {
         "continuousWidth": 400,
         "continuousHeight": 300
        }
       },
       "data": {
        "url": "http://localhost:24786/ade581298eae640b43501ab31f3f4486.json"
       },
       "mark": "line",
       "encoding": {
        "x": {
         "type": "quantitative",
         "axis": {
          "grid": false
         },
         "field": "Age"
        },
        "y": {
         "type": "quantitative",
         "axis": {
          "grid": false
         },
         "field": "avg_BMI",
         "scale": {
          "zero": false
         },
         "title": null
        }
       },
       "title": {
        "text": "Average Player Body Mass Index"
       },
       "$schema": "https://vega.github.io/schema/vega-lite/v4.8.1.json"
      },
      "text/plain": [
       "<VegaLite 4 object>\n",
       "\n",
       "If you see this message, it means the renderer has not been properly enabled\n",
       "for the frontend that you are using. For more information, see\n",
       "https://altair-viz.github.io/user_guide/troubleshooting.html\n"
      ]
     },
     "metadata": {},
     "execution_count": 379
    }
   ],
   "source": [
    "simple_stat_age(\"Average Player Body Mass Index\")"
   ]
  },
  {
   "source": [
    "### Data wrangling to allow user to select a stat, and see the difference between playoffs and regular season"
   ],
   "cell_type": "markdown",
   "metadata": {}
  },
  {
   "cell_type": "code",
   "execution_count": 380,
   "metadata": {},
   "outputs": [],
   "source": [
    "NBA_reg_seasons = NBA_reg.groupby('Season').sum().reset_index()\n",
    "NBA_playoff_seasons = NBA_playoff.groupby('Season').sum().reset_index()"
   ]
  },
  {
   "cell_type": "code",
   "execution_count": 381,
   "metadata": {},
   "outputs": [],
   "source": [
    "# NBA_seasons_full['Pts/Game'] = (NBA_seasons_full['PTS']/NBA_seasons_full['MIN'])*(5*48)\n",
    "NBA_reg_seasons['PTS/Game'] = (NBA_reg_seasons['PTS']/NBA_reg_seasons['MIN'])*(5*48)\n",
    "NBA_reg_seaons['Playoff_PTS/Game'] = (NBA_playoff_seasons['PTS']/NBA_playoff_seasons['MIN'])*(5*48)"
   ]
  },
  {
   "cell_type": "code",
   "execution_count": 400,
   "metadata": {},
   "outputs": [],
   "source": [
    "list = ['Regular Season'] * len(NBA_reg_seasons)\n",
    "col = pd.Series(list)\n",
    "NBA_reg_seasons['Type'] = col\n",
    "\n",
    "plist = ['Playoffs'] * len(NBA_playoff_seasons)\n",
    "pcol = pd.Series(plist)\n",
    "NBA_playoff_seasons['Type'] = pcol"
   ]
  },
  {
   "cell_type": "code",
   "execution_count": 401,
   "metadata": {},
   "outputs": [],
   "source": [
    "type_seasons = NBA_reg_seasons.append(NBA_playoff_seasons)"
   ]
  },
  {
   "cell_type": "code",
   "execution_count": 432,
   "metadata": {},
   "outputs": [
    {
     "output_type": "execute_result",
     "data": {
      "application/vnd.vegalite.v4+json": {
       "config": {
        "view": {
         "continuousWidth": 400,
         "continuousHeight": 300
        }
       },
       "data": {
        "url": "http://localhost:24786/659cc4aa82da120c901527737f6d5455.json"
       },
       "mark": {
        "type": "bar",
        "opacity": 0.5
       },
       "encoding": {
        "color": {
         "type": "nominal",
         "field": "Type"
        },
        "x": {
         "type": "nominal",
         "field": "Season"
        },
        "y": {
         "type": "quantitative",
         "axis": {
          "grid": false
         },
         "field": "PTS/Game",
         "scale": {
          "zero": false
         },
         "stack": null,
         "title": null
        }
       },
       "$schema": "https://vega.github.io/schema/vega-lite/v4.8.1.json"
      },
      "text/plain": [
       "<VegaLite 4 object>\n",
       "\n",
       "If you see this message, it means the renderer has not been properly enabled\n",
       "for the frontend that you are using. For more information, see\n",
       "https://altair-viz.github.io/user_guide/troubleshooting.html\n"
      ]
     },
     "metadata": {},
     "execution_count": 432
    }
   ],
   "source": [
    "bar_chart = alt.Chart(type_seasons).mark_bar(opacity=0.5).encode(alt.Y('PTS/Game', scale= alt.Scale(zero=False),\n",
    "    axis=alt.Axis(grid=False), title=None, stack=None), alt.X('Season'), alt.Color('Type'))\n",
    "\n",
    "bar_chart"
   ]
  },
  {
   "cell_type": "code",
   "execution_count": 428,
   "metadata": {},
   "outputs": [
    {
     "output_type": "execute_result",
     "data": {
      "application/vnd.vegalite.v4+json": {
       "config": {
        "view": {
         "continuousWidth": 400,
         "continuousHeight": 300
        },
        "facet": {
         "spacing": 5
        }
       },
       "data": {
        "url": "http://localhost:24786/659cc4aa82da120c901527737f6d5455.json"
       },
       "mark": "bar",
       "encoding": {
        "color": {
         "type": "nominal",
         "field": "Type"
        },
        "column": {
         "type": "nominal",
         "align": "none",
         "field": "Season"
        },
        "x": {
         "type": "nominal",
         "field": "Type"
        },
        "y": {
         "type": "quantitative",
         "axis": {
          "grid": false
         },
         "field": "PTS/Game",
         "scale": {
          "zero": false
         },
         "stack": null,
         "title": null
        }
       },
       "width": 15,
       "$schema": "https://vega.github.io/schema/vega-lite/v4.8.1.json"
      },
      "text/plain": [
       "<VegaLite 4 object>\n",
       "\n",
       "If you see this message, it means the renderer has not been properly enabled\n",
       "for the frontend that you are using. For more information, see\n",
       "https://altair-viz.github.io/user_guide/troubleshooting.html\n"
      ]
     },
     "metadata": {},
     "execution_count": 428
    }
   ],
   "source": [
    "# TO DO clean up chart. \n",
    "\n",
    "bar_chart = alt.Chart(type_seasons).mark_bar().encode(alt.Y('PTS/Game', scale= alt.Scale(zero=False),\n",
    "    axis=alt.Axis(grid=False), title=None, stack=None), alt.X('Type'), alt.Column('Season', align='none'), alt.Color('Type')).properties(width=15).configure_facet(spacing=5)\n",
    "\n",
    "bar_chart"
   ]
  },
  {
   "cell_type": "code",
   "execution_count": 429,
   "metadata": {},
   "outputs": [
    {
     "output_type": "execute_result",
     "data": {
      "application/vnd.vegalite.v4+json": {
       "config": {
        "view": {
         "continuousWidth": 400,
         "continuousHeight": 300
        }
       },
       "data": {
        "url": "http://localhost:24786/659cc4aa82da120c901527737f6d5455.json"
       },
       "mark": "line",
       "encoding": {
        "color": {
         "type": "nominal",
         "field": "Type"
        },
        "x": {
         "type": "nominal",
         "field": "Season"
        },
        "y": {
         "type": "quantitative",
         "axis": {
          "grid": false
         },
         "field": "PTS/Game",
         "scale": {
          "zero": false
         },
         "stack": null,
         "title": null
        }
       },
       "$schema": "https://vega.github.io/schema/vega-lite/v4.8.1.json"
      },
      "text/plain": [
       "<VegaLite 4 object>\n",
       "\n",
       "If you see this message, it means the renderer has not been properly enabled\n",
       "for the frontend that you are using. For more information, see\n",
       "https://altair-viz.github.io/user_guide/troubleshooting.html\n"
      ]
     },
     "metadata": {},
     "execution_count": 429
    }
   ],
   "source": [
    "line_chart = alt.Chart(type_seasons).mark_line().encode(alt.Y('PTS/Game', scale= alt.Scale(zero=False),\n",
    "    axis=alt.Axis(grid=False), title=None, stack=None), alt.X('Season'), alt.Color('Type'))\n",
    "\n",
    "line_chart"
   ]
  },
  {
   "cell_type": "code",
   "execution_count": null,
   "metadata": {},
   "outputs": [],
   "source": []
  }
 ]
}