{
 "metadata": {
  "language_info": {
   "codemirror_mode": {
    "name": "ipython",
    "version": 3
   },
   "file_extension": ".py",
   "mimetype": "text/x-python",
   "name": "python",
   "nbconvert_exporter": "python",
   "pygments_lexer": "ipython3",
   "version": "3.8.3-final"
  },
  "orig_nbformat": 2,
  "kernelspec": {
   "name": "python3",
   "display_name": "Python 3.8.3 64-bit (conda)",
   "metadata": {
    "interpreter": {
     "hash": "6daf48744f4ce44b71572c0f8f2a6fb897741990605a7e8599d08bee668bbd40"
    }
   }
  }
 },
 "nbformat": 4,
 "nbformat_minor": 2,
 "cells": [
  {
   "cell_type": "code",
   "execution_count": 13,
   "metadata": {},
   "outputs": [
    {
     "output_type": "execute_result",
     "data": {
      "text/plain": [
       "DataTransformerRegistry.enable('data_server')"
      ]
     },
     "metadata": {},
     "execution_count": 13
    }
   ],
   "source": [
    "import pandas as pd\n",
    "import altair as alt\n",
    "alt.data_transformers.disable_max_rows()\n",
    "\n",
    "# Save a vega-lite spec and a PNG blob for each plot in the notebook\n",
    "alt.renderers.enable('mimetype')\n",
    "# Handle large data sets without embedding them in the notebook\n",
    "alt.data_transformers.enable('data_server')"
   ]
  },
  {
   "cell_type": "code",
   "execution_count": 3,
   "metadata": {},
   "outputs": [],
   "source": [
    "full_data = pd.read_csv(\"players_stats_by_season_full_details.csv\")"
   ]
  },
  {
   "cell_type": "code",
   "execution_count": 9,
   "metadata": {},
   "outputs": [],
   "source": [
    "# filter data to only include NBA\n",
    "NBA_data = full_data[full_data[\"League\"] == \"NBA\"]\n",
    "# Regular season data\n",
    "NBA_reg = NBA_data[NBA_data['Stage'] == \"Regular_Season\"]\n",
    "# Playoff data\n",
    "NBA_playoff = NBA_data[NBA_data['Stage'] == 'Playoffs']"
   ]
  },
  {
   "cell_type": "code",
   "execution_count": 12,
   "metadata": {},
   "outputs": [
    {
     "output_type": "execute_result",
     "data": {
      "text/plain": [
       "Index(['League', 'Season', 'Stage', 'Player', 'Team', 'GP', 'MIN', 'FGM',\n",
       "       'FGA', '3PM', '3PA', 'FTM', 'FTA', 'TOV', 'PF', 'ORB', 'DRB', 'REB',\n",
       "       'AST', 'STL', 'BLK', 'PTS', 'birth_year', 'birth_month', 'birth_date',\n",
       "       'height', 'height_cm', 'weight', 'weight_kg', 'nationality',\n",
       "       'high_school', 'draft_round', 'draft_pick', 'draft_team'],\n",
       "      dtype='object')"
      ]
     },
     "metadata": {},
     "execution_count": 12
    }
   ],
   "source": [
    "NBA_data.columns"
   ]
  },
  {
   "source": [
    "## Overall NBA trends (not separated by playoffs vs reg season)"
   ],
   "cell_type": "markdown",
   "metadata": {}
  },
  {
   "cell_type": "code",
   "execution_count": 25,
   "metadata": {},
   "outputs": [
    {
     "output_type": "execute_result",
     "data": {
      "text/plain": [
       "        Season     GP       MIN    FGM     FGA    3PM    3PA    FTM    FTA  \\\n",
       "0  1999 - 2000  17279  468414.0  73403  161880   9840  27376  38595  51070   \n",
       "1  2000 - 2001  15869  445472.0  68913  153979   9496  26605  37087  49172   \n",
       "2  2001 - 2002  15766  443097.0  68398  151741  10228  28367  35052  46226   \n",
       "3  2002 - 2003  18176  492219.0  74278  166750  10953  31100  39433  51559   \n",
       "4  2003 - 2004  16577  459832.1  67904  153347  10242  29455  36009  47816   \n",
       "\n",
       "     TOV  ...    STL    BLK     PTS  birth_year  height_cm   weight  \\\n",
       "0  28745  ...  15375  10175  195239    673978.0    68577.0  75075.0   \n",
       "1  26655  ...  14351   9821  184412    621228.0    63302.0  69446.0   \n",
       "2  25160  ...  14326   9964  182075    629544.0    64148.0  70838.0   \n",
       "3  28726  ...  16246  10069  198940    718602.0    73303.0  81094.0   \n",
       "4  26980  ...  15072   9984  182057    661898.0    67428.0  74750.0   \n",
       "\n",
       "   weight_kg  draft_round  draft_pick  3PM_ratio  \n",
       "0    34040.0        382.0      3451.0   0.134054  \n",
       "1    31490.0        351.0      3268.0   0.137797  \n",
       "2    32118.0        343.0      3580.0   0.149537  \n",
       "3    36769.0        394.0      3895.0   0.147460  \n",
       "4    33897.0        357.0      3686.0   0.150831  \n",
       "\n",
       "[5 rows x 25 columns]"
      ],
      "text/html": "<div>\n<style scoped>\n    .dataframe tbody tr th:only-of-type {\n        vertical-align: middle;\n    }\n\n    .dataframe tbody tr th {\n        vertical-align: top;\n    }\n\n    .dataframe thead th {\n        text-align: right;\n    }\n</style>\n<table border=\"1\" class=\"dataframe\">\n  <thead>\n    <tr style=\"text-align: right;\">\n      <th></th>\n      <th>Season</th>\n      <th>GP</th>\n      <th>MIN</th>\n      <th>FGM</th>\n      <th>FGA</th>\n      <th>3PM</th>\n      <th>3PA</th>\n      <th>FTM</th>\n      <th>FTA</th>\n      <th>TOV</th>\n      <th>...</th>\n      <th>STL</th>\n      <th>BLK</th>\n      <th>PTS</th>\n      <th>birth_year</th>\n      <th>height_cm</th>\n      <th>weight</th>\n      <th>weight_kg</th>\n      <th>draft_round</th>\n      <th>draft_pick</th>\n      <th>3PM_ratio</th>\n    </tr>\n  </thead>\n  <tbody>\n    <tr>\n      <th>0</th>\n      <td>1999 - 2000</td>\n      <td>17279</td>\n      <td>468414.0</td>\n      <td>73403</td>\n      <td>161880</td>\n      <td>9840</td>\n      <td>27376</td>\n      <td>38595</td>\n      <td>51070</td>\n      <td>28745</td>\n      <td>...</td>\n      <td>15375</td>\n      <td>10175</td>\n      <td>195239</td>\n      <td>673978.0</td>\n      <td>68577.0</td>\n      <td>75075.0</td>\n      <td>34040.0</td>\n      <td>382.0</td>\n      <td>3451.0</td>\n      <td>0.134054</td>\n    </tr>\n    <tr>\n      <th>1</th>\n      <td>2000 - 2001</td>\n      <td>15869</td>\n      <td>445472.0</td>\n      <td>68913</td>\n      <td>153979</td>\n      <td>9496</td>\n      <td>26605</td>\n      <td>37087</td>\n      <td>49172</td>\n      <td>26655</td>\n      <td>...</td>\n      <td>14351</td>\n      <td>9821</td>\n      <td>184412</td>\n      <td>621228.0</td>\n      <td>63302.0</td>\n      <td>69446.0</td>\n      <td>31490.0</td>\n      <td>351.0</td>\n      <td>3268.0</td>\n      <td>0.137797</td>\n    </tr>\n    <tr>\n      <th>2</th>\n      <td>2001 - 2002</td>\n      <td>15766</td>\n      <td>443097.0</td>\n      <td>68398</td>\n      <td>151741</td>\n      <td>10228</td>\n      <td>28367</td>\n      <td>35052</td>\n      <td>46226</td>\n      <td>25160</td>\n      <td>...</td>\n      <td>14326</td>\n      <td>9964</td>\n      <td>182075</td>\n      <td>629544.0</td>\n      <td>64148.0</td>\n      <td>70838.0</td>\n      <td>32118.0</td>\n      <td>343.0</td>\n      <td>3580.0</td>\n      <td>0.149537</td>\n    </tr>\n    <tr>\n      <th>3</th>\n      <td>2002 - 2003</td>\n      <td>18176</td>\n      <td>492219.0</td>\n      <td>74278</td>\n      <td>166750</td>\n      <td>10953</td>\n      <td>31100</td>\n      <td>39433</td>\n      <td>51559</td>\n      <td>28726</td>\n      <td>...</td>\n      <td>16246</td>\n      <td>10069</td>\n      <td>198940</td>\n      <td>718602.0</td>\n      <td>73303.0</td>\n      <td>81094.0</td>\n      <td>36769.0</td>\n      <td>394.0</td>\n      <td>3895.0</td>\n      <td>0.147460</td>\n    </tr>\n    <tr>\n      <th>4</th>\n      <td>2003 - 2004</td>\n      <td>16577</td>\n      <td>459832.1</td>\n      <td>67904</td>\n      <td>153347</td>\n      <td>10242</td>\n      <td>29455</td>\n      <td>36009</td>\n      <td>47816</td>\n      <td>26980</td>\n      <td>...</td>\n      <td>15072</td>\n      <td>9984</td>\n      <td>182057</td>\n      <td>661898.0</td>\n      <td>67428.0</td>\n      <td>74750.0</td>\n      <td>33897.0</td>\n      <td>357.0</td>\n      <td>3686.0</td>\n      <td>0.150831</td>\n    </tr>\n  </tbody>\n</table>\n<p>5 rows × 25 columns</p>\n</div>"
     },
     "metadata": {},
     "execution_count": 25
    }
   ],
   "source": [
    "# group by the seasons and sum up numerical columns\n",
    "NBA_seasons_full = NBA_data.groupby('Season').sum().reset_index()\n",
    "\n",
    "# create column of ratio of field goals made each season that are 3-pointers.\n",
    "NBA_seasons_full['3PM_ratio'] = (NBA_seasons_full['3PM']/NBA_seasons_full['FGM'])\n",
    "\n",
    "NBA_seasons_full.head()"
   ]
  },
  {
   "source": [
    "### Percentage of field goals attempted that were 3-pointers by season"
   ],
   "cell_type": "markdown",
   "metadata": {}
  },
  {
   "cell_type": "code",
   "execution_count": 26,
   "metadata": {},
   "outputs": [
    {
     "output_type": "execute_result",
     "data": {
      "application/vnd.vegalite.v4+json": {
       "config": {
        "view": {
         "continuousWidth": 400,
         "continuousHeight": 300
        }
       },
       "data": {
        "url": "http://localhost:24786/d884d4a76591cf97448c772a435e3b99.json"
       },
       "mark": "line",
       "encoding": {
        "x": {
         "type": "nominal",
         "field": "Season"
        },
        "y": {
         "type": "quantitative",
         "axis": {
          "format": "%"
         },
         "field": "3PM_ratio"
        }
       },
       "$schema": "https://vega.github.io/schema/vega-lite/v4.8.1.json"
      },
      "text/plain": [
       "<VegaLite 4 object>\n",
       "\n",
       "If you see this message, it means the renderer has not been properly enabled\n",
       "for the frontend that you are using. For more information, see\n",
       "https://altair-viz.github.io/user_guide/troubleshooting.html\n"
      ]
     },
     "metadata": {},
     "execution_count": 26
    }
   ],
   "source": [
    "threes_ratio_chart = alt.Chart(NBA_seasons_full).mark_line().encode(alt.Y('3PM_ratio', axis = alt.Axis(format='%')), alt.X('Season'))\n",
    "\n",
    "threes_ratio_chart"
   ]
  },
  {
   "source": [
    "### Points per game by season "
   ],
   "cell_type": "markdown",
   "metadata": {}
  },
  {
   "cell_type": "code",
   "execution_count": 117,
   "metadata": {},
   "outputs": [
    {
     "output_type": "execute_result",
     "data": {
      "application/vnd.vegalite.v4+json": {
       "config": {
        "view": {
         "continuousWidth": 400,
         "continuousHeight": 300
        }
       },
       "data": {
        "url": "http://localhost:24786/0917254197e714184005a03714d90d27.json"
       },
       "mark": "line",
       "encoding": {
        "x": {
         "type": "nominal",
         "field": "Season"
        },
        "y": {
         "type": "quantitative",
         "field": "Pts/Game",
         "scale": {
          "zero": false
         }
        }
       },
       "$schema": "https://vega.github.io/schema/vega-lite/v4.8.1.json"
      },
      "text/plain": [
       "<VegaLite 4 object>\n",
       "\n",
       "If you see this message, it means the renderer has not been properly enabled\n",
       "for the frontend that you are using. For more information, see\n",
       "https://altair-viz.github.io/user_guide/troubleshooting.html\n"
      ]
     },
     "metadata": {},
     "execution_count": 117
    }
   ],
   "source": [
    "# Create a points per game column for each season\n",
    "# by multiplying points/minute/player by 5 for 5 players on the court and by 48 for 48 minutes in game. \n",
    "NBA_seasons_full['Pts/Game'] = (NBA_seasons_full['PTS']/NBA_seasons_full['MIN'])*(5*48)\n",
    "\n",
    "ppg_chart = alt.Chart(NBA_seasons_full).mark_line().encode(alt.Y('Pts/Game', scale= alt.Scale(zero=False)), alt.X('Season'))\n",
    "\n",
    "ppg_chart\n",
    "\n"
   ]
  },
  {
   "source": [
    "### Assists per game by season"
   ],
   "cell_type": "markdown",
   "metadata": {}
  },
  {
   "cell_type": "code",
   "execution_count": 127,
   "metadata": {},
   "outputs": [
    {
     "output_type": "execute_result",
     "data": {
      "application/vnd.vegalite.v4+json": {
       "config": {
        "view": {
         "continuousWidth": 400,
         "continuousHeight": 300
        }
       },
       "data": {
        "url": "http://localhost:24786/b0d8c386c405970bb1b92e783d48c992.json"
       },
       "mark": "line",
       "encoding": {
        "x": {
         "type": "nominal",
         "field": "Season"
        },
        "y": {
         "type": "quantitative",
         "field": "Ast/Game",
         "scale": {
          "zero": false
         }
        }
       },
       "$schema": "https://vega.github.io/schema/vega-lite/v4.8.1.json"
      },
      "text/plain": [
       "<VegaLite 4 object>\n",
       "\n",
       "If you see this message, it means the renderer has not been properly enabled\n",
       "for the frontend that you are using. For more information, see\n",
       "https://altair-viz.github.io/user_guide/troubleshooting.html\n"
      ]
     },
     "metadata": {},
     "execution_count": 127
    }
   ],
   "source": [
    "# Create a points per game column for each season\n",
    "# by multiplying assists/minute/player by 5 for 5 players on the court and by 48 for 48 minutes in game. \n",
    "NBA_seasons_full['Ast/Game'] = (NBA_seasons_full['AST']/NBA_seasons_full['MIN'])*(5*48)\n",
    "\n",
    "apg_chart = alt.Chart(NBA_seasons_full).mark_line().encode(alt.Y('Ast/Game', scale= alt.Scale(zero=False)), alt.X('Season'))\n",
    "\n",
    "apg_chart"
   ]
  },
  {
   "source": [
    "### Shots per game by season"
   ],
   "cell_type": "markdown",
   "metadata": {}
  },
  {
   "cell_type": "code",
   "execution_count": 130,
   "metadata": {},
   "outputs": [
    {
     "output_type": "execute_result",
     "data": {
      "application/vnd.vegalite.v4+json": {
       "config": {
        "view": {
         "continuousWidth": 400,
         "continuousHeight": 300
        }
       },
       "data": {
        "url": "http://localhost:24786/220cc188fcaf684be4d4fffcc761b195.json"
       },
       "mark": "line",
       "encoding": {
        "x": {
         "type": "nominal",
         "field": "Season"
        },
        "y": {
         "type": "quantitative",
         "field": "FGA/Game",
         "scale": {
          "zero": false
         }
        }
       },
       "$schema": "https://vega.github.io/schema/vega-lite/v4.8.1.json"
      },
      "text/plain": [
       "<VegaLite 4 object>\n",
       "\n",
       "If you see this message, it means the renderer has not been properly enabled\n",
       "for the frontend that you are using. For more information, see\n",
       "https://altair-viz.github.io/user_guide/troubleshooting.html\n"
      ]
     },
     "metadata": {},
     "execution_count": 130
    }
   ],
   "source": [
    "# Create a points per game column for each season\n",
    "# by multiplying field goals attempted/minute/player by 5 for 5 players on the court and by 48 for 48 minutes in game. \n",
    "NBA_seasons_full['FGA/Game'] = (NBA_seasons_full['FGA']/NBA_seasons_full['MIN'])*(5*48)\n",
    "\n",
    "fgpg_chart = alt.Chart(NBA_seasons_full).mark_line().encode(alt.Y('FGA/Game', scale= alt.Scale(zero=False)), alt.X('Season'))\n",
    "\n",
    "fgpg_chart"
   ]
  },
  {
   "source": [
    "### Rebounds per game by season\n",
    "\n",
    "It is interesting that total and defensive rebounding has increased, but offensive rebounding has decreased. \n",
    "\n"
   ],
   "cell_type": "markdown",
   "metadata": {}
  },
  {
   "cell_type": "code",
   "execution_count": 133,
   "metadata": {},
   "outputs": [
    {
     "output_type": "execute_result",
     "data": {
      "application/vnd.vegalite.v4+json": {
       "config": {
        "view": {
         "continuousWidth": 400,
         "continuousHeight": 300
        }
       },
       "layer": [
        {
         "mark": "line",
         "encoding": {
          "x": {
           "type": "nominal",
           "field": "Season"
          },
          "y": {
           "type": "quantitative",
           "field": "DRB/Game",
           "scale": {
            "zero": false
           }
          }
         }
        },
        {
         "mark": "line",
         "encoding": {
          "x": {
           "type": "nominal",
           "field": "Season"
          },
          "y": {
           "type": "quantitative",
           "field": "REB/Game",
           "scale": {
            "zero": false
           }
          }
         }
        },
        {
         "mark": "line",
         "encoding": {
          "x": {
           "type": "nominal",
           "field": "Season"
          },
          "y": {
           "type": "quantitative",
           "field": "ORB/Game",
           "scale": {
            "zero": false
           }
          }
         }
        }
       ],
       "data": {
        "url": "http://localhost:24786/9517c883d06db939738753b353c01cdb.json"
       },
       "$schema": "https://vega.github.io/schema/vega-lite/v4.8.1.json"
      },
      "text/plain": [
       "<VegaLite 4 object>\n",
       "\n",
       "If you see this message, it means the renderer has not been properly enabled\n",
       "for the frontend that you are using. For more information, see\n",
       "https://altair-viz.github.io/user_guide/troubleshooting.html\n"
      ]
     },
     "metadata": {},
     "execution_count": 133
    }
   ],
   "source": [
    "# Create a points per game column for each season\n",
    "# by multiplying rebounds/minute/player by 5 for 5 players on the court and by 48 for 48 minutes in game. \n",
    "NBA_seasons_full['REB/Game'] = (NBA_seasons_full['REB']/NBA_seasons_full['MIN'])*(5*48)\n",
    "\n",
    "rpg_chart = alt.Chart(NBA_seasons_full).mark_line().encode(alt.Y('REB/Game', scale= alt.Scale(zero=False)), alt.X('Season'))\n",
    "\n",
    "\n",
    "\n",
    "NBA_seasons_full['DRB/Game'] = (NBA_seasons_full['DRB']/NBA_seasons_full['MIN'])*(5*48)\n",
    "\n",
    "drpg_chart = alt.Chart(NBA_seasons_full).mark_line().encode(alt.Y('DRB/Game', scale= alt.Scale(zero=False)), alt.X('Season'))\n",
    "\n",
    "NBA_seasons_full['ORB/Game'] = (NBA_seasons_full['ORB']/NBA_seasons_full['MIN'])*(5*48)\n",
    "\n",
    "orpg_chart = alt.Chart(NBA_seasons_full).mark_line().encode(alt.Y('ORB/Game', scale= alt.Scale(zero=False)), alt.X('Season'))\n",
    "\n",
    "drpg_chart + rpg_chart + orpg_chart"
   ]
  },
  {
   "source": [
    "### Steals per game by season\n",
    "\n",
    "The large drop in steals per game in 2004-2005 was due to the NBA cracking down on \"hand checking\" and calling it as a foul. "
   ],
   "cell_type": "markdown",
   "metadata": {}
  },
  {
   "cell_type": "code",
   "execution_count": 126,
   "metadata": {},
   "outputs": [
    {
     "output_type": "execute_result",
     "data": {
      "application/vnd.vegalite.v4+json": {
       "config": {
        "view": {
         "continuousWidth": 400,
         "continuousHeight": 300
        }
       },
       "data": {
        "url": "http://localhost:24786/52799bc4b5904c4ade7c3c03f7cb973e.json"
       },
       "mark": "line",
       "encoding": {
        "x": {
         "type": "nominal",
         "field": "Season"
        },
        "y": {
         "type": "quantitative",
         "field": "STL/Game",
         "scale": {
          "zero": false
         }
        }
       },
       "$schema": "https://vega.github.io/schema/vega-lite/v4.8.1.json"
      },
      "text/plain": [
       "<VegaLite 4 object>\n",
       "\n",
       "If you see this message, it means the renderer has not been properly enabled\n",
       "for the frontend that you are using. For more information, see\n",
       "https://altair-viz.github.io/user_guide/troubleshooting.html\n"
      ]
     },
     "metadata": {},
     "execution_count": 126
    }
   ],
   "source": [
    "# Create a steals per game column for each season\n",
    "# by multiplying steals/minute/player by 5 for 5 players on the court and by 48 for 48 minutes in game. \n",
    "NBA_seasons_full['STL/Game'] = (NBA_seasons_full['STL']/NBA_seasons_full['MIN'])*(5*48)\n",
    "\n",
    "spg_chart = alt.Chart(NBA_seasons_full).mark_line().encode(alt.Y('STL/Game', scale= alt.Scale(zero=False)), alt.X('Season'))\n",
    "\n",
    "spg_chart"
   ]
  },
  {
   "source": [
    "### Blocks per game by season"
   ],
   "cell_type": "markdown",
   "metadata": {}
  },
  {
   "cell_type": "code",
   "execution_count": 124,
   "metadata": {},
   "outputs": [
    {
     "output_type": "execute_result",
     "data": {
      "application/vnd.vegalite.v4+json": {
       "config": {
        "view": {
         "continuousWidth": 400,
         "continuousHeight": 300
        }
       },
       "data": {
        "url": "http://localhost:24786/52799bc4b5904c4ade7c3c03f7cb973e.json"
       },
       "mark": "line",
       "encoding": {
        "x": {
         "type": "nominal",
         "field": "Season"
        },
        "y": {
         "type": "quantitative",
         "field": "BLK/Game"
        }
       },
       "$schema": "https://vega.github.io/schema/vega-lite/v4.8.1.json"
      },
      "text/plain": [
       "<VegaLite 4 object>\n",
       "\n",
       "If you see this message, it means the renderer has not been properly enabled\n",
       "for the frontend that you are using. For more information, see\n",
       "https://altair-viz.github.io/user_guide/troubleshooting.html\n"
      ]
     },
     "metadata": {},
     "execution_count": 124
    }
   ],
   "source": [
    "# Create a steals per game column for each season\n",
    "# by multiplying steals/minute/player by 5 for 5 players on the court and by 48 for 48 minutes in game. \n",
    "NBA_seasons_full['BLK/Game'] = (NBA_seasons_full['BLK']/NBA_seasons_full['MIN'])*(5*48)\n",
    "\n",
    "bpg_chart = alt.Chart(NBA_seasons_full).mark_line().encode(alt.Y('BLK/Game'), alt.X('Season'))\n",
    "\n",
    "bpg_chart"
   ]
  },
  {
   "cell_type": "code",
   "execution_count": 119,
   "metadata": {},
   "outputs": [
    {
     "output_type": "execute_result",
     "data": {
      "text/plain": [
       "Index(['League', 'Season', 'Stage', 'Player', 'Team', 'GP', 'MIN', 'FGM',\n",
       "       'FGA', '3PM', '3PA', 'FTM', 'FTA', 'TOV', 'PF', 'ORB', 'DRB', 'REB',\n",
       "       'AST', 'STL', 'BLK', 'PTS', 'birth_year', 'birth_month', 'birth_date',\n",
       "       'height', 'height_cm', 'weight', 'weight_kg', 'nationality',\n",
       "       'high_school', 'draft_round', 'draft_pick', 'draft_team'],\n",
       "      dtype='object')"
      ]
     },
     "metadata": {},
     "execution_count": 119
    }
   ],
   "source": [
    "NBA_data.columns"
   ]
  },
  {
   "source": [
    "# Ideas to keep working on\n",
    "\n",
    "- player weight or BMI over time\n",
    "- player stats according to age\n",
    "- NBA stats according to playoffs vs regular season (right now all the stats are for all games regardless of season)\n",
    "- Draft position vs offensive efficiency"
   ],
   "cell_type": "markdown",
   "metadata": {}
  },
  {
   "cell_type": "code",
   "execution_count": null,
   "metadata": {},
   "outputs": [],
   "source": []
  }
 ]
}