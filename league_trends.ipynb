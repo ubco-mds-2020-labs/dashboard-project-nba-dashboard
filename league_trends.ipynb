{
 "metadata": {
  "language_info": {
   "codemirror_mode": {
    "name": "ipython",
    "version": 3
   },
   "file_extension": ".py",
   "mimetype": "text/x-python",
   "name": "python",
   "nbconvert_exporter": "python",
   "pygments_lexer": "ipython3",
   "version": "3.8.3-final"
  },
  "orig_nbformat": 2,
  "kernelspec": {
   "name": "python3",
   "display_name": "Python 3.8.3 64-bit (conda)",
   "metadata": {
    "interpreter": {
     "hash": "6daf48744f4ce44b71572c0f8f2a6fb897741990605a7e8599d08bee668bbd40"
    }
   }
  }
 },
 "nbformat": 4,
 "nbformat_minor": 2,
 "cells": [
  {
   "cell_type": "code",
   "execution_count": 1,
   "metadata": {},
   "outputs": [
    {
     "output_type": "execute_result",
     "data": {
      "text/plain": [
       "DataTransformerRegistry.enable('data_server')"
      ]
     },
     "metadata": {},
     "execution_count": 1
    }
   ],
   "source": [
    "import pandas as pd\n",
    "import altair as alt\n",
    "alt.data_transformers.disable_max_rows()\n",
    "\n",
    "# Save a vega-lite spec and a PNG blob for each plot in the notebook\n",
    "alt.renderers.enable('mimetype')\n",
    "# Handle large data sets without embedding them in the notebook\n",
    "alt.data_transformers.enable('data_server')"
   ]
  },
  {
   "cell_type": "code",
   "execution_count": 2,
   "metadata": {},
   "outputs": [],
   "source": [
    "full_data = pd.read_csv(\"players_stats_by_season_full_details.csv\")"
   ]
  },
  {
   "cell_type": "code",
   "execution_count": 3,
   "metadata": {},
   "outputs": [],
   "source": [
    "# filter data to only include NBA\n",
    "NBA_data = full_data[full_data[\"League\"] == \"NBA\"]\n",
    "# Regular season data\n",
    "NBA_reg = NBA_data[NBA_data['Stage'] == \"Regular_Season\"]\n",
    "# Playoff data\n",
    "NBA_playoff = NBA_data[NBA_data['Stage'] == 'Playoffs']"
   ]
  },
  {
   "cell_type": "code",
   "execution_count": 4,
   "metadata": {},
   "outputs": [
    {
     "output_type": "execute_result",
     "data": {
      "text/plain": [
       "Index(['League', 'Season', 'Stage', 'Player', 'Team', 'GP', 'MIN', 'FGM',\n",
       "       'FGA', '3PM', '3PA', 'FTM', 'FTA', 'TOV', 'PF', 'ORB', 'DRB', 'REB',\n",
       "       'AST', 'STL', 'BLK', 'PTS', 'birth_year', 'birth_month', 'birth_date',\n",
       "       'height', 'height_cm', 'weight', 'weight_kg', 'nationality',\n",
       "       'high_school', 'draft_round', 'draft_pick', 'draft_team'],\n",
       "      dtype='object')"
      ]
     },
     "metadata": {},
     "execution_count": 4
    }
   ],
   "source": [
    "NBA_data.columns"
   ]
  },
  {
   "source": [
    "## Overall NBA trends (not separated by playoffs vs reg season)"
   ],
   "cell_type": "markdown",
   "metadata": {}
  },
  {
   "cell_type": "code",
   "execution_count": 5,
   "metadata": {},
   "outputs": [],
   "source": [
    "# group by the seasons and sum up numerical columns. This shows stats by season (this includes regular season and playoff games together)\n",
    "NBA_seasons_full = NBA_data.groupby('Season').sum().reset_index()\n"
   ]
  },
  {
   "source": [
    "### Data Wrangling for line graph showing trends of stats in the NBA over the seasons"
   ],
   "cell_type": "markdown",
   "metadata": {}
  },
  {
   "cell_type": "code",
   "execution_count": 25,
   "metadata": {},
   "outputs": [],
   "source": [
    "# list for the drop down menu\n",
    "longform_stat_list = ['Average Player Minutes Played per Game', 'Field Goals Made per Game', 'Field Goals Attempted per Game',\n",
    "'3-Pointers Made per Game', '3-Pointers Attempted per Game', 'Free-throws Made per Game',\n",
    "'Free-throws Attempted per Game', 'Turnovers per Game', 'Personal Fouls per Game', 'Offensive Rebounds per Game',\n",
    "'Defensive Rebounds per Game', 'Total Rebounds per Game', 'Assists per Game', 'Steals per Game', \n",
    "'Blocks per Game', 'Points per Game', 'Average Player Weight (lbs)', 'Average Player Height (cm)', 'Average Player Body Mass Index', 'Ratio of Field Goals That Are 3-pointers']\n",
    "\n",
    "# dictionary linking dropdown list key to stat value\n",
    "stat_dict = {'Average Player Minutes Played per Game':'MIN/Game', 'Field Goals Made per Game':'FGM/Game', \n",
    "'Field Goals Attempted per Game':'FGA/Game', '3-Pointers Made per Game':'3PM/Game',\n",
    "'3-Pointers Attempted per Game':'3PA/Game', 'Free-throws Made per Game':'FTM/Game',\n",
    "'Free-throws Attempted per Game':'FTA/Game', 'Turnovers per Game':'TOV/Game', 'Personal Fouls per Game':'PF/Game', 'Offensive Rebounds per Game':'ORB/Game', 'Defensive Rebounds per Game':'DRB/Game', 'Total Rebounds per Game':'REB/Game', 'Assists per Game':'Ast/Game', 'Steals per Game':'STL/Game', \n",
    "'Blocks per Game':'BLK/Game', 'Points per Game':'Pts/Game', 'Average Player Weight (lbs)':'avg_weight', 'Average Player Height (cm)':'avg_height_cm', 'Average Player Body Mass Index':'avg_BMI', 'Ratio of Field Goals That Are 3-pointers':'3PM_ratio'}"
   ]
  },
  {
   "cell_type": "code",
   "execution_count": 26,
   "metadata": {},
   "outputs": [],
   "source": [
    "# Create column for ratio of shots made that are 3-pointers\n",
    "NBA_seasons_full['3PM_ratio'] = (NBA_seasons_full['3PM']/NBA_seasons_full['FGM'])\n",
    "\n",
    "# Create a column for average player height (need to create a season average dataframe first)\n",
    "NBA_seasons_full_avg = NBA_data.groupby('Season').mean().reset_index()\n",
    "NBA_seasons_full['avg_height_cm'] = NBA_seasons_full_avg['height_cm']\n",
    "\n",
    "# Create a column for average player weight (lbs)\n",
    "NBA_seasons_full['avg_weight'] = NBA_seasons_full_avg['weight']\n",
    "\n",
    "# Create a column for average player BMI\n",
    "NBA_seasons_full['avg_BMI'] = NBA_seasons_full_avg['weight_kg']/((NBA_seasons_full_avg['height_cm']/100)**2)\n",
    "\n",
    "# All of the following numerical stats per game (eg. points, assists, etc.) are found by getting the stat/minute/player, then multiplying that by 5 for 5 players on the court at a time for each team and then multiplying by 48 for 48 minutes in a game. \n",
    "\n",
    "# Create a points per game column\n",
    "NBA_seasons_full['Pts/Game'] = (NBA_seasons_full['PTS']/NBA_seasons_full['MIN'])*(5*48)\n",
    "\n",
    "# Create an assists per game column\n",
    "NBA_seasons_full['Ast/Game'] = (NBA_seasons_full['AST']/NBA_seasons_full['MIN'])*(5*48)\n",
    "\n",
    "# Create a field goals attempted per game column\n",
    "NBA_seasons_full['FGA/Game'] = (NBA_seasons_full['FGA']/NBA_seasons_full['MIN'])*(5*48)\n",
    "\n",
    "# Create a field goals made per game column\n",
    "NBA_seasons_full['FGM/Game'] = (NBA_seasons_full['FGM']/NBA_seasons_full['MIN'])*(5*48)\n",
    "\n",
    "# Create a total rebounds per game column\n",
    "NBA_seasons_full['ORB/Game'] = (NBA_seasons_full['ORB']/NBA_seasons_full['MIN'])*(5*48)\n",
    "\n",
    "# Create a defensive rebounds per game column\n",
    "NBA_seasons_full['DRB/Game'] = (NBA_seasons_full['DRB']/NBA_seasons_full['MIN'])*(5*48)\n",
    "\n",
    "# Create a total rebounds per game column\n",
    "NBA_seasons_full['REB/Game'] = (NBA_seasons_full['REB']/NBA_seasons_full['MIN'])*(5*48)\n",
    "\n",
    "# Create a minutes per game column\n",
    "NBA_seasons_full['MIN/Game'] = NBA_seasons_full['MIN']/NBA_seasons_full['GP']\n",
    "\n",
    "# Create a 3 pointers made per game column\n",
    "NBA_seasons_full['3PM/Game'] = (NBA_seasons_full['3PM']/NBA_seasons_full['MIN'])*(5*48)\n",
    "\n",
    "# Create a 3-pointers attempted per game column\n",
    "NBA_seasons_full['3PA/Game'] = (NBA_seasons_full['3PA']/NBA_seasons_full['MIN'])*(5*48)\n",
    "\n",
    "# Create a free-throws attempted per game column\n",
    "NBA_seasons_full['FTA/Game'] = (NBA_seasons_full['FTA']/NBA_seasons_full['MIN'])*(5*48)\n",
    "\n",
    "# Create a free-throws attempted per game column\n",
    "NBA_seasons_full['FTM/Game'] = (NBA_seasons_full['FTM']/NBA_seasons_full['MIN'])*(5*48)\n",
    "\n",
    "# Create a turnovers per game column\n",
    "NBA_seasons_full['TOV/Game'] = (NBA_seasons_full['TOV']/NBA_seasons_full['MIN'])*(5*48)\n",
    "\n",
    "# Create a personal fouls per game column\n",
    "NBA_seasons_full['PF/Game'] = (NBA_seasons_full['PF']/NBA_seasons_full['MIN'])*(5*48)\n",
    "\n",
    "# Create a steals per game column\n",
    "NBA_seasons_full['STL/Game'] = (NBA_seasons_full['STL']/NBA_seasons_full['MIN'])*(5*48)\n",
    "\n",
    "# Create a blocks per game column\n",
    "NBA_seasons_full['BLK/Game'] = (NBA_seasons_full['BLK']/NBA_seasons_full['MIN'])*(5*48)"
   ]
  },
  {
   "source": [
    "### Generic chart function for getting simple stat trends over the seasons"
   ],
   "cell_type": "markdown",
   "metadata": {}
  },
  {
   "cell_type": "code",
   "execution_count": 33,
   "metadata": {},
   "outputs": [],
   "source": [
    "def simple_stat(stat):\n",
    "    # Use dictionary key to get the proper column\n",
    "    leave_list = ['Average Player Minutes Played per Game', 'Average Player Weight (lbs)', 'Average Player Height (cm)', 'Average Player Body Mass Index', 'Ratio of Field Goals That Are 3-pointers']\n",
    "    stat_label = stat_dict[stat]\n",
    "    if stat not in leave_list:\n",
    "        stat = stat + ' per Team'\n",
    "    line_chart = alt.Chart(NBA_seasons_full, title=alt.TitleParams(text=stat)).mark_line(color='#f6573f', size=3).encode(alt.Y(stat_label, scale= alt.Scale(zero=False),\n",
    "    axis=alt.Axis(grid=False), title=None), alt.X('Season')).configure_view(strokeWidth=0)\n",
    "    return line_chart"
   ]
  },
  {
   "cell_type": "code",
   "execution_count": 34,
   "metadata": {},
   "outputs": [
    {
     "output_type": "execute_result",
     "data": {
      "application/vnd.vegalite.v4+json": {
       "config": {
        "view": {
         "continuousWidth": 400,
         "continuousHeight": 300,
         "strokeWidth": 0
        }
       },
       "data": {
        "url": "http://localhost:23480/ae785a9f0b261ae36acf7f9698f62ed8.json"
       },
       "mark": {
        "type": "line",
        "color": "#f6573f",
        "size": 3
       },
       "encoding": {
        "x": {
         "type": "nominal",
         "field": "Season"
        },
        "y": {
         "type": "quantitative",
         "axis": {
          "grid": false
         },
         "field": "3PM_ratio",
         "scale": {
          "zero": false
         },
         "title": null
        }
       },
       "title": {
        "text": "Ratio of Field Goals That Are 3-pointers"
       },
       "$schema": "https://vega.github.io/schema/vega-lite/v4.8.1.json"
      },
      "text/plain": [
       "<VegaLite 4 object>\n",
       "\n",
       "If you see this message, it means the renderer has not been properly enabled\n",
       "for the frontend that you are using. For more information, see\n",
       "https://altair-viz.github.io/user_guide/troubleshooting.html\n"
      ]
     },
     "metadata": {},
     "execution_count": 34
    }
   ],
   "source": [
    "simple_stat('Ratio of Field Goals That Are 3-pointers')"
   ]
  },
  {
   "source": [
    "### Grouping by player age and making the same line plot but it will show how the overall NBA trends change as players age. "
   ],
   "cell_type": "markdown",
   "metadata": {}
  },
  {
   "cell_type": "code",
   "execution_count": 10,
   "metadata": {},
   "outputs": [],
   "source": [
    "NBA_data_age = NBA_data.copy()\n",
    "# Convert birth year to integer\n",
    "NBA_data_age['birth_year'] = NBA_data_age['birth_year'].map(lambda x: int(x))\n",
    "NBA_data_age.reset_index(drop=True, inplace=True)\n",
    "# Convert Season to the year the season ended (instead of the two years the season spans)\n",
    "# and convert it to an integer. \n",
    "NBA_data_age['Season'] = NBA_data_age['Season'].map(lambda x: int(x[-4:len(x)]))"
   ]
  },
  {
   "cell_type": "code",
   "execution_count": 11,
   "metadata": {},
   "outputs": [],
   "source": [
    "# Create a column for age by subtracting birth year from the season year (use year of playoffs)\n",
    "NBA_data_age['Age'] = NBA_data_age['Season'] - NBA_data_age['birth_year']\n",
    "\n",
    "# Drop ages > 39 years old because there are less than 30 players in these age groups so the average estimates are likely to be innacurate. \n",
    "NBA_data_age = NBA_data_age[NBA_data_age['Age'] < 40]\n",
    "\n",
    "# Group the NBA data by age and sum up the numerical categories\n",
    "NBA_age_avg = NBA_data_age.groupby('Age').mean().reset_index()\n",
    "NBA_age_sum = NBA_data_age.groupby('Age').sum().reset_index()"
   ]
  },
  {
   "cell_type": "code",
   "execution_count": 12,
   "metadata": {},
   "outputs": [],
   "source": [
    "# Create column for ratio of shots made that are 3-pointers\n",
    "NBA_age_sum['3PM_ratio'] = (NBA_age_sum['3PM']/NBA_age_sum['FGM'])\n",
    "\n",
    "# Create a column for average player height (need to create a season average dataframe first)\n",
    "NBA_age_sum['avg_height_cm'] = NBA_age_avg['height_cm']\n",
    "\n",
    "# Create a column for average player weight (lbs)\n",
    "NBA_age_sum['avg_weight'] = NBA_age_avg['weight']\n",
    "\n",
    "# Create a column for average player BMI\n",
    "NBA_age_sum['avg_BMI'] = NBA_age_avg['weight_kg']/((NBA_age_avg['height_cm']/100)**2)\n",
    "\n",
    "# All of the following numerical stats per game by age (eg. points, assists, etc.) are found by getting the stat/game played. \n",
    "\n",
    "# Create a points per game column\n",
    "NBA_age_sum['Pts/Game'] = NBA_age_sum['PTS']/NBA_age_sum['GP']\n",
    "\n",
    "# Create an assists per game column\n",
    "NBA_age_sum['Ast/Game'] = NBA_age_sum['AST']/NBA_age_sum['GP']\n",
    "\n",
    "# Create a field goals attempted per game column\n",
    "NBA_age_sum['FGA/Game'] = NBA_age_sum['FGA']/NBA_age_sum['GP']\n",
    "\n",
    "# Create a field goals made per game column\n",
    "NBA_age_sum['FGM/Game'] = NBA_age_sum['FGM']/NBA_age_sum['GP']\n",
    "\n",
    "# Create a total rebounds per game column\n",
    "NBA_age_sum['ORB/Game'] = NBA_age_sum['ORB']/NBA_age_sum['GP']\n",
    "\n",
    "# Create a defensive rebounds per game column\n",
    "NBA_age_sum['DRB/Game'] = NBA_age_sum['DRB']/NBA_age_sum['GP']\n",
    "\n",
    "# Create a total rebounds per game column\n",
    "NBA_age_sum['REB/Game'] = NBA_age_sum['REB']/NBA_age_sum['GP']\n",
    "\n",
    "# Create a minutes per game column\n",
    "NBA_age_sum['MIN/Game'] = NBA_age_sum['MIN']/NBA_age_sum['GP']\n",
    "\n",
    "# Create a 3 pointers made per game column\n",
    "NBA_age_sum['3PM/Game'] = NBA_age_sum['3PM']/NBA_age_sum['GP']\n",
    "\n",
    "# Create a 3-pointers attempted per game column\n",
    "NBA_age_sum['3PA/Game'] = NBA_age_sum['3PA']/NBA_age_sum['GP']\n",
    "\n",
    "# Create a free-throws attempted per game column\n",
    "NBA_age_sum['FTA/Game'] = NBA_age_sum['FTA']/NBA_age_sum['GP']\n",
    "\n",
    "# Create a free-throws attempted per game column\n",
    "NBA_age_sum['FTM/Game'] = NBA_age_sum['FTM']/NBA_age_sum['GP']\n",
    "\n",
    "# Create a turnovers per game column\n",
    "NBA_age_sum['TOV/Game'] = NBA_age_sum['TOV']/NBA_age_sum['GP']\n",
    "\n",
    "# Create a personal fouls per game column\n",
    "NBA_age_sum['PF/Game'] = NBA_age_sum['PF']/NBA_age_sum['GP']\n",
    "\n",
    "# Create a steals per game column\n",
    "NBA_age_sum['STL/Game'] = NBA_age_sum['STL']/NBA_age_sum['GP']\n",
    "\n",
    "# Create a blocks per game column\n",
    "NBA_age_sum['BLK/Game'] = NBA_age_sum['BLK']/NBA_age_sum['GP']"
   ]
  },
  {
   "cell_type": "code",
   "execution_count": 13,
   "metadata": {},
   "outputs": [],
   "source": [
    "def simple_stat_age(stat):\n",
    "    # Use dictionary key to get the proper column\n",
    "    stat_label = stat_dict[stat]\n",
    "    line_chart = alt.Chart(NBA_age_sum, title=alt.TitleParams(text=stat)).mark_line(color=\"#969696\", size=3).encode(alt.Y(stat_label, scale= alt.Scale(zero=False),\n",
    "    axis=alt.Axis(grid=False), title=None), alt.X('Age', axis=alt.Axis(grid=False))).configure_view(strokeWidth=0)\n",
    "    return line_chart"
   ]
  },
  {
   "cell_type": "code",
   "execution_count": 14,
   "metadata": {},
   "outputs": [
    {
     "output_type": "execute_result",
     "data": {
      "application/vnd.vegalite.v4+json": {
       "config": {
        "view": {
         "continuousWidth": 400,
         "continuousHeight": 300,
         "strokeWidth": 0
        }
       },
       "data": {
        "url": "http://localhost:23480/ade581298eae640b43501ab31f3f4486.json"
       },
       "mark": {
        "type": "line",
        "color": "#969696",
        "size": 3
       },
       "encoding": {
        "x": {
         "type": "quantitative",
         "axis": {
          "grid": false
         },
         "field": "Age"
        },
        "y": {
         "type": "quantitative",
         "axis": {
          "grid": false
         },
         "field": "Pts/Game",
         "scale": {
          "zero": false
         },
         "title": null
        }
       },
       "title": {
        "text": "Points per Game"
       },
       "$schema": "https://vega.github.io/schema/vega-lite/v4.8.1.json"
      },
      "text/plain": [
       "<VegaLite 4 object>\n",
       "\n",
       "If you see this message, it means the renderer has not been properly enabled\n",
       "for the frontend that you are using. For more information, see\n",
       "https://altair-viz.github.io/user_guide/troubleshooting.html\n"
      ]
     },
     "metadata": {},
     "execution_count": 14
    }
   ],
   "source": [
    "simple_stat_age(\"Points per Game\")"
   ]
  },
  {
   "source": [
    "### Data wrangling to allow user to select a stat, and see the difference between playoffs and regular season"
   ],
   "cell_type": "markdown",
   "metadata": {}
  },
  {
   "cell_type": "code",
   "execution_count": 15,
   "metadata": {},
   "outputs": [],
   "source": [
    "NBA_reg_seasons = NBA_reg.groupby('Season').sum().reset_index()\n",
    "NBA_playoff_seasons = NBA_playoff.groupby('Season').sum().reset_index()"
   ]
  },
  {
   "source": [
    "### Create stats for regular season"
   ],
   "cell_type": "markdown",
   "metadata": {}
  },
  {
   "cell_type": "code",
   "execution_count": 16,
   "metadata": {},
   "outputs": [],
   "source": [
    "# Create column for ratio of shots made that are 3-pointers\n",
    "NBA_reg_seasons['3PM_ratio'] = (NBA_reg_seasons['3PM']/NBA_reg_seasons['FGM'])\n",
    "\n",
    "# Create a column for average player height (need to create a season average dataframe first)\n",
    "NBA_reg_seasons_avg = NBA_reg.groupby('Season').mean().reset_index()\n",
    "NBA_reg_seasons['avg_height_cm'] = NBA_reg_seasons_avg['height_cm']\n",
    "\n",
    "# Create a column for average player weight (lbs)\n",
    "NBA_reg_seasons['avg_weight'] = NBA_reg_seasons_avg['weight']\n",
    "\n",
    "# Create a column for average player BMI\n",
    "NBA_reg_seasons['avg_BMI'] = NBA_reg_seasons_avg['weight_kg']/((NBA_reg_seasons_avg['height_cm']/100)**2)\n",
    "\n",
    "# All of the following numerical stats per game (eg. points, assists, etc.) are found by getting the stat/minute/player, then multiplying that by 5 for 5 players on the court at a time for each team and then multiplying by 48 for 48 minutes in a game. \n",
    "\n",
    "# Create a points per game column\n",
    "NBA_reg_seasons['Pts/Game'] = (NBA_reg_seasons['PTS']/NBA_reg_seasons['MIN'])*(5*48)\n",
    "\n",
    "# Create an assists per game column\n",
    "NBA_reg_seasons['Ast/Game'] = (NBA_reg_seasons['AST']/NBA_reg_seasons['MIN'])*(5*48)\n",
    "\n",
    "# Create a field goals attempted per game column\n",
    "NBA_reg_seasons['FGA/Game'] = (NBA_reg_seasons['FGA']/NBA_reg_seasons['MIN'])*(5*48)\n",
    "\n",
    "# Create a field goals made per game column\n",
    "NBA_reg_seasons['FGM/Game'] = (NBA_reg_seasons['FGM']/NBA_reg_seasons['MIN'])*(5*48)\n",
    "\n",
    "# Create a total rebounds per game column\n",
    "NBA_reg_seasons['ORB/Game'] = (NBA_reg_seasons['ORB']/NBA_reg_seasons['MIN'])*(5*48)\n",
    "\n",
    "# Create a defensive rebounds per game column\n",
    "NBA_reg_seasons['DRB/Game'] = (NBA_reg_seasons['DRB']/NBA_reg_seasons['MIN'])*(5*48)\n",
    "\n",
    "# Create a total rebounds per game column\n",
    "NBA_reg_seasons['REB/Game'] = (NBA_reg_seasons['REB']/NBA_reg_seasons['MIN'])*(5*48)\n",
    "\n",
    "# Create a minutes per game column\n",
    "NBA_reg_seasons['MIN/Game'] = NBA_reg_seasons['MIN']/NBA_reg_seasons['GP']\n",
    "\n",
    "# Create a 3 pointers made per game column\n",
    "NBA_reg_seasons['3PM/Game'] = (NBA_reg_seasons['3PM']/NBA_reg_seasons['MIN'])*(5*48)\n",
    "\n",
    "# Create a 3-pointers attempted per game column\n",
    "NBA_reg_seasons['3PA/Game'] = (NBA_reg_seasons['3PA']/NBA_reg_seasons['MIN'])*(5*48)\n",
    "\n",
    "# Create a free-throws attempted per game column\n",
    "NBA_reg_seasons['FTA/Game'] = (NBA_reg_seasons['FTA']/NBA_reg_seasons['MIN'])*(5*48)\n",
    "\n",
    "# Create a free-throws attempted per game column\n",
    "NBA_reg_seasons['FTM/Game'] = (NBA_reg_seasons['FTM']/NBA_reg_seasons['MIN'])*(5*48)\n",
    "\n",
    "# Create a turnovers per game column\n",
    "NBA_reg_seasons['TOV/Game'] = (NBA_reg_seasons['TOV']/NBA_reg_seasons['MIN'])*(5*48)\n",
    "\n",
    "# Create a personal fouls per game column\n",
    "NBA_reg_seasons['PF/Game'] = (NBA_reg_seasons['PF']/NBA_reg_seasons['MIN'])*(5*48)\n",
    "\n",
    "# Create a steals per game column\n",
    "NBA_reg_seasons['STL/Game'] = (NBA_reg_seasons['STL']/NBA_reg_seasons['MIN'])*(5*48)\n",
    "\n",
    "# Create a blocks per game column\n",
    "NBA_reg_seasons['BLK/Game'] = (NBA_reg_seasons['BLK']/NBA_reg_seasons['MIN'])*(5*48)"
   ]
  },
  {
   "source": [
    "### Create stats for playoffs"
   ],
   "cell_type": "markdown",
   "metadata": {}
  },
  {
   "cell_type": "code",
   "execution_count": 17,
   "metadata": {},
   "outputs": [],
   "source": [
    "# Create column for ratio of shots made that are 3-pointers\n",
    "NBA_playoff_seasons['3PM_ratio'] = (NBA_playoff_seasons['3PM']/NBA_playoff_seasons['FGM'])\n",
    "\n",
    "# Create a column for average player height (need to create a season average dataframe first)\n",
    "NBA_playoff_seasons_avg = NBA_playoff.groupby('Season').mean().reset_index()\n",
    "NBA_playoff_seasons['avg_height_cm'] = NBA_playoff_seasons_avg['height_cm']\n",
    "\n",
    "# Create a column for average player weight (lbs)\n",
    "NBA_playoff_seasons['avg_weight'] = NBA_playoff_seasons_avg['weight']\n",
    "\n",
    "# Create a column for average player BMI\n",
    "NBA_playoff_seasons['avg_BMI'] = NBA_playoff_seasons_avg['weight_kg']/((NBA_playoff_seasons_avg['height_cm']/100)**2)\n",
    "\n",
    "# All of the following numerical stats per game (eg. points, assists, etc.) are found by getting the stat/minute/player, then multiplying that by 5 for 5 players on the court at a time for each team and then multiplying by 48 for 48 minutes in a game. \n",
    "\n",
    "# Create a points per game column\n",
    "NBA_playoff_seasons['Pts/Game'] = (NBA_playoff_seasons['PTS']/NBA_playoff_seasons['MIN'])*(5*48)\n",
    "\n",
    "# Create an assists per game column\n",
    "NBA_playoff_seasons['Ast/Game'] = (NBA_playoff_seasons['AST']/NBA_playoff_seasons['MIN'])*(5*48)\n",
    "\n",
    "# Create a field goals attempted per game column\n",
    "NBA_playoff_seasons['FGA/Game'] = (NBA_playoff_seasons['FGA']/NBA_playoff_seasons['MIN'])*(5*48)\n",
    "\n",
    "# Create a field goals made per game column\n",
    "NBA_playoff_seasons['FGM/Game'] = (NBA_playoff_seasons['FGM']/NBA_playoff_seasons['MIN'])*(5*48)\n",
    "\n",
    "# Create a total rebounds per game column\n",
    "NBA_playoff_seasons['ORB/Game'] = (NBA_playoff_seasons['ORB']/NBA_playoff_seasons['MIN'])*(5*48)\n",
    "\n",
    "# Create a defensive rebounds per game column\n",
    "NBA_playoff_seasons['DRB/Game'] = (NBA_playoff_seasons['DRB']/NBA_playoff_seasons['MIN'])*(5*48)\n",
    "\n",
    "# Create a total rebounds per game column\n",
    "NBA_playoff_seasons['REB/Game'] = (NBA_playoff_seasons['REB']/NBA_playoff_seasons['MIN'])*(5*48)\n",
    "\n",
    "# Create a minutes per game column\n",
    "NBA_playoff_seasons['MIN/Game'] = NBA_playoff_seasons['MIN']/NBA_playoff_seasons['GP']\n",
    "\n",
    "# Create a 3 pointers made per game column\n",
    "NBA_playoff_seasons['3PM/Game'] = (NBA_playoff_seasons['3PM']/NBA_playoff_seasons['MIN'])*(5*48)\n",
    "\n",
    "# Create a 3-pointers attempted per game column\n",
    "NBA_playoff_seasons['3PA/Game'] = (NBA_playoff_seasons['3PA']/NBA_playoff_seasons['MIN'])*(5*48)\n",
    "\n",
    "# Create a free-throws attempted per game column\n",
    "NBA_playoff_seasons['FTA/Game'] = (NBA_playoff_seasons['FTA']/NBA_playoff_seasons['MIN'])*(5*48)\n",
    "\n",
    "# Create a free-throws attempted per game column\n",
    "NBA_playoff_seasons['FTM/Game'] = (NBA_playoff_seasons['FTM']/NBA_playoff_seasons['MIN'])*(5*48)\n",
    "\n",
    "# Create a turnovers per game column\n",
    "NBA_playoff_seasons['TOV/Game'] = (NBA_playoff_seasons['TOV']/NBA_playoff_seasons['MIN'])*(5*48)\n",
    "\n",
    "# Create a personal fouls per game column\n",
    "NBA_playoff_seasons['PF/Game'] = (NBA_playoff_seasons['PF']/NBA_playoff_seasons['MIN'])*(5*48)\n",
    "\n",
    "# Create a steals per game column\n",
    "NBA_playoff_seasons['STL/Game'] = (NBA_playoff_seasons['STL']/NBA_playoff_seasons['MIN'])*(5*48)\n",
    "\n",
    "# Create a blocks per game column\n",
    "NBA_playoff_seasons['BLK/Game'] = (NBA_playoff_seasons['BLK']/NBA_playoff_seasons['MIN'])*(5*48)"
   ]
  },
  {
   "cell_type": "code",
   "execution_count": 18,
   "metadata": {},
   "outputs": [],
   "source": [
    "list = ['Regular Season'] * len(NBA_reg_seasons)\n",
    "col = pd.Series(list)\n",
    "NBA_reg_seasons['Type'] = col\n",
    "\n",
    "plist = ['Playoffs'] * len(NBA_playoff_seasons)\n",
    "pcol = pd.Series(plist)\n",
    "NBA_playoff_seasons['Type'] = pcol"
   ]
  },
  {
   "cell_type": "code",
   "execution_count": 19,
   "metadata": {},
   "outputs": [],
   "source": [
    "type_seasons = NBA_reg_seasons.append(NBA_playoff_seasons)"
   ]
  },
  {
   "cell_type": "code",
   "execution_count": 35,
   "metadata": {},
   "outputs": [],
   "source": [
    "def type_stat(stat):\n",
    "    # Use dictionary key to get the proper column\n",
    "    leave_list = ['Average Player Minutes Played per Game', 'Average Player Weight (lbs)', 'Average Player Height (cm)', 'Average Player Body Mass Index', 'Ratio of Field Goals That Are 3-pointers']\n",
    "    stat_label = stat_dict[stat]\n",
    "    if stat not in leave_list:\n",
    "        stat = stat + ' per Team'\n",
    "    stat = stat + ' by Season'\n",
    "    bar_chart = alt.Chart(type_seasons).mark_bar().encode(alt.Y(stat_label, scale= alt.Scale(zero=False),\n",
    "    axis=alt.Axis(grid=False), title=None, stack=None), alt.X('Type', axis=None), alt.Column('Season', title = stat,\n",
    "    header= alt.Header(labelOrient='bottom', labelAngle=90, labelPadding=60)), alt.Color('Type', legend = alt.Legend(orient = 'bottom', title=None))).properties(width=15).configure_facet(spacing=5).configure_axis(grid=False).configure_view(strokeWidth=0)\n",
    "    return bar_chart"
   ]
  },
  {
   "cell_type": "code",
   "execution_count": 37,
   "metadata": {},
   "outputs": [
    {
     "output_type": "execute_result",
     "data": {
      "application/vnd.vegalite.v4+json": {
       "config": {
        "view": {
         "continuousWidth": 400,
         "continuousHeight": 300,
         "strokeWidth": 0
        },
        "axis": {
         "grid": false
        },
        "facet": {
         "spacing": 5
        }
       },
       "data": {
        "url": "http://localhost:23480/217a872a64991545a2c11a594eda144f.json"
       },
       "mark": "bar",
       "encoding": {
        "color": {
         "type": "nominal",
         "field": "Type",
         "legend": {
          "orient": "bottom",
          "title": null
         }
        },
        "column": {
         "type": "nominal",
         "field": "Season",
         "header": {
          "labelAngle": 90,
          "labelOrient": "bottom",
          "labelPadding": 60
         },
         "title": "Average Player Weight (lbs) by Season"
        },
        "x": {
         "type": "nominal",
         "axis": null,
         "field": "Type"
        },
        "y": {
         "type": "quantitative",
         "axis": {
          "grid": false
         },
         "field": "avg_weight",
         "scale": {
          "zero": false
         },
         "stack": null,
         "title": null
        }
       },
       "width": 15,
       "$schema": "https://vega.github.io/schema/vega-lite/v4.8.1.json"
      },
      "text/plain": [
       "<VegaLite 4 object>\n",
       "\n",
       "If you see this message, it means the renderer has not been properly enabled\n",
       "for the frontend that you are using. For more information, see\n",
       "https://altair-viz.github.io/user_guide/troubleshooting.html\n"
      ]
     },
     "metadata": {},
     "execution_count": 37
    }
   ],
   "source": [
    "type_stat('Average Player Weight (lbs)')"
   ]
  },
  {
   "source": [
    "### Data wrangling for display of stats by draft position"
   ],
   "cell_type": "markdown",
   "metadata": {}
  },
  {
   "cell_type": "code",
   "execution_count": 22,
   "metadata": {},
   "outputs": [
    {
     "output_type": "execute_result",
     "data": {
      "text/plain": [
       "  League       Season           Stage            Player Team  GP     MIN  FGM  \\\n",
       "0    NBA  1999 - 2000  Regular_Season  Shaquille O'Neal  LAL  79  3163.0  956   \n",
       "1    NBA  1999 - 2000  Regular_Season      Vince Carter  TOR  82  3126.0  788   \n",
       "2    NBA  1999 - 2000  Regular_Season       Karl Malone  UTA  82  2947.0  752   \n",
       "3    NBA  1999 - 2000  Regular_Season     Allen Iverson  PHI  70  2853.0  729   \n",
       "4    NBA  1999 - 2000  Regular_Season       Gary Payton  SEA  82  3425.0  747   \n",
       "\n",
       "    FGA  3PM  ...    birth_date  height  height_cm  weight  weight_kg  \\\n",
       "0  1665    0  ...   Mar 6, 1972     7-1      216.0   325.0      147.0   \n",
       "1  1696   95  ...  Jan 26, 1977     6-6      198.0   220.0      100.0   \n",
       "2  1476    2  ...  Jul 24, 1963     6-9      206.0   265.0      120.0   \n",
       "3  1733   89  ...   Jun 7, 1975     6-0      183.0   165.0       75.0   \n",
       "4  1666  177  ...  Jul 23, 1968     6-4      193.0   180.0       82.0   \n",
       "\n",
       "     nationality                  high_school  draft_round  draft_pick  \\\n",
       "0  United States  Robert G. Cole High School           1.0         1.0   \n",
       "1  United States         Mainland High School          1.0         5.0   \n",
       "2  United States      Summerfield High School          1.0        13.0   \n",
       "3  United States          Bethel High School           1.0         1.0   \n",
       "4  United States          Skyline High School          1.0         2.0   \n",
       "\n",
       "              draft_team  \n",
       "0          Orlando Magic  \n",
       "1  Golden State Warriors  \n",
       "2              Utah Jazz  \n",
       "3    Philadelphia Sixers  \n",
       "4    Seattle SuperSonics  \n",
       "\n",
       "[5 rows x 34 columns]"
      ],
      "text/html": "<div>\n<style scoped>\n    .dataframe tbody tr th:only-of-type {\n        vertical-align: middle;\n    }\n\n    .dataframe tbody tr th {\n        vertical-align: top;\n    }\n\n    .dataframe thead th {\n        text-align: right;\n    }\n</style>\n<table border=\"1\" class=\"dataframe\">\n  <thead>\n    <tr style=\"text-align: right;\">\n      <th></th>\n      <th>League</th>\n      <th>Season</th>\n      <th>Stage</th>\n      <th>Player</th>\n      <th>Team</th>\n      <th>GP</th>\n      <th>MIN</th>\n      <th>FGM</th>\n      <th>FGA</th>\n      <th>3PM</th>\n      <th>...</th>\n      <th>birth_date</th>\n      <th>height</th>\n      <th>height_cm</th>\n      <th>weight</th>\n      <th>weight_kg</th>\n      <th>nationality</th>\n      <th>high_school</th>\n      <th>draft_round</th>\n      <th>draft_pick</th>\n      <th>draft_team</th>\n    </tr>\n  </thead>\n  <tbody>\n    <tr>\n      <th>0</th>\n      <td>NBA</td>\n      <td>1999 - 2000</td>\n      <td>Regular_Season</td>\n      <td>Shaquille O'Neal</td>\n      <td>LAL</td>\n      <td>79</td>\n      <td>3163.0</td>\n      <td>956</td>\n      <td>1665</td>\n      <td>0</td>\n      <td>...</td>\n      <td>Mar 6, 1972</td>\n      <td>7-1</td>\n      <td>216.0</td>\n      <td>325.0</td>\n      <td>147.0</td>\n      <td>United States</td>\n      <td>Robert G. Cole High School</td>\n      <td>1.0</td>\n      <td>1.0</td>\n      <td>Orlando Magic</td>\n    </tr>\n    <tr>\n      <th>1</th>\n      <td>NBA</td>\n      <td>1999 - 2000</td>\n      <td>Regular_Season</td>\n      <td>Vince Carter</td>\n      <td>TOR</td>\n      <td>82</td>\n      <td>3126.0</td>\n      <td>788</td>\n      <td>1696</td>\n      <td>95</td>\n      <td>...</td>\n      <td>Jan 26, 1977</td>\n      <td>6-6</td>\n      <td>198.0</td>\n      <td>220.0</td>\n      <td>100.0</td>\n      <td>United States</td>\n      <td>Mainland High School</td>\n      <td>1.0</td>\n      <td>5.0</td>\n      <td>Golden State Warriors</td>\n    </tr>\n    <tr>\n      <th>2</th>\n      <td>NBA</td>\n      <td>1999 - 2000</td>\n      <td>Regular_Season</td>\n      <td>Karl Malone</td>\n      <td>UTA</td>\n      <td>82</td>\n      <td>2947.0</td>\n      <td>752</td>\n      <td>1476</td>\n      <td>2</td>\n      <td>...</td>\n      <td>Jul 24, 1963</td>\n      <td>6-9</td>\n      <td>206.0</td>\n      <td>265.0</td>\n      <td>120.0</td>\n      <td>United States</td>\n      <td>Summerfield High School</td>\n      <td>1.0</td>\n      <td>13.0</td>\n      <td>Utah Jazz</td>\n    </tr>\n    <tr>\n      <th>3</th>\n      <td>NBA</td>\n      <td>1999 - 2000</td>\n      <td>Regular_Season</td>\n      <td>Allen Iverson</td>\n      <td>PHI</td>\n      <td>70</td>\n      <td>2853.0</td>\n      <td>729</td>\n      <td>1733</td>\n      <td>89</td>\n      <td>...</td>\n      <td>Jun 7, 1975</td>\n      <td>6-0</td>\n      <td>183.0</td>\n      <td>165.0</td>\n      <td>75.0</td>\n      <td>United States</td>\n      <td>Bethel High School</td>\n      <td>1.0</td>\n      <td>1.0</td>\n      <td>Philadelphia Sixers</td>\n    </tr>\n    <tr>\n      <th>4</th>\n      <td>NBA</td>\n      <td>1999 - 2000</td>\n      <td>Regular_Season</td>\n      <td>Gary Payton</td>\n      <td>SEA</td>\n      <td>82</td>\n      <td>3425.0</td>\n      <td>747</td>\n      <td>1666</td>\n      <td>177</td>\n      <td>...</td>\n      <td>Jul 23, 1968</td>\n      <td>6-4</td>\n      <td>193.0</td>\n      <td>180.0</td>\n      <td>82.0</td>\n      <td>United States</td>\n      <td>Skyline High School</td>\n      <td>1.0</td>\n      <td>2.0</td>\n      <td>Seattle SuperSonics</td>\n    </tr>\n  </tbody>\n</table>\n<p>5 rows × 34 columns</p>\n</div>"
     },
     "metadata": {},
     "execution_count": 22
    }
   ],
   "source": [
    "NBA_data.head()"
   ]
  },
  {
   "cell_type": "code",
   "execution_count": 23,
   "metadata": {
    "tags": []
   },
   "outputs": [],
   "source": [
    "#NBA_data_age['birth_year'] = NBA_data_age['birth_year'].map(lambda x: int(x))#\n",
    "NBA_draft = NBA_data.copy()\n",
    "\n",
    "def shorten(x):\n",
    "    x = 'hello'\n",
    "\n",
    "\n",
    "NBA_draft['draft_round'] = NBA_draft['draft_round'].fillna('U')\n",
    "NBA_draft['draft_pick'] = NBA_draft['draft_pick'].fillna('U')\n",
    "\n",
    "NBA_draft['draft_round'] = NBA_draft['draft_round'].map(lambda x: str(x))\n",
    "NBA_draft['draft_pick'] = NBA_draft['draft_pick'].map(lambda x: str(x))\n",
    "\n",
    "\n"
   ]
  },
  {
   "source": [
    "# To Do for 4th week refinement:\n",
    "- add advanced stats to NBA trends tab\n",
    "- Decide if we want to compare stats by draft position. "
   ],
   "cell_type": "markdown",
   "metadata": {}
  },
  {
   "cell_type": "code",
   "execution_count": null,
   "metadata": {},
   "outputs": [],
   "source": []
  }
 ]
}